from fears.population import Population

import numpy as np
import matplotlib.pyplot as plt

p = Population(fitness_data='from_file', plot_pop_size = True, init_counts = [100000, 10, 10, 10], max_dose= 250, dwell= True, dwell_time=8, prob_drop = 0.2, k_elim = .05, k_abs = 100, death_model=None, curve_type='pulsed', timestep_scale = 0.075, n_timestep = 1000, n_sims = 1, n_allele = 2, seascape_path = 'seescay.csv', mut_rate = 10e-9, passage=True, dilution = 2, passage_time = 1, dose_schedule = 2)

u = p.drug_curve

p.simulate()
